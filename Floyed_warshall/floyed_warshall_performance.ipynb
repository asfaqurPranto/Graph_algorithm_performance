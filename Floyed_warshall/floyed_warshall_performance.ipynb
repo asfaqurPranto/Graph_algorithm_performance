{
 "cells": [
  {
   "cell_type": "code",
   "execution_count": 14,
   "metadata": {},
   "outputs": [],
   "source": [
    "import random\n",
    "import time\n",
    "import pandas as pd"
   ]
  },
  {
   "cell_type": "code",
   "execution_count": 15,
   "metadata": {},
   "outputs": [],
   "source": [
    "INF = int(1e9) + 10\n",
    "N = int(1e3)\n",
    "dist = [[INF for _ in range(N)] for _ in range(N)]"
   ]
  },
  {
   "cell_type": "code",
   "execution_count": 16,
   "metadata": {},
   "outputs": [],
   "source": [
    "def floyd_warshall(n):\n",
    "    for k in range(n):\n",
    "        for i in range(n):\n",
    "            for j in range(n):\n",
    "                dist[i][j] = min(dist[i][j], dist[i][k] + dist[k][j])"
   ]
  },
  {
   "cell_type": "code",
   "execution_count": 17,
   "metadata": {},
   "outputs": [],
   "source": [
    "def get_random_number():\n",
    "    # 70% chance of getting 0 (True) and 30% chance of getting a non-zero value (False)\n",
    "    is_zero = random.random() < 0.7\n",
    "    if is_zero:\n",
    "        return 0\n",
    "    else:\n",
    "        return random.randint(-100, 100)"
   ]
  },
  {
   "cell_type": "code",
   "execution_count": 18,
   "metadata": {},
   "outputs": [
    {
     "name": "stdout",
     "output_type": "stream",
     "text": [
      "node: 20, Edge: 53, duration: 3988.74 microseconds\n",
      "node: 30, Edge: 141, duration: 8975.74 microseconds\n",
      "node: 40, Edge: 239, duration: 15957.83 microseconds\n",
      "node: 50, Edge: 367, duration: 29918.43 microseconds\n",
      "node: 60, Edge: 541, duration: 49866.44 microseconds\n",
      "node: 70, Edge: 750, duration: 77791.69 microseconds\n",
      "node: 80, Edge: 933, duration: 132646.56 microseconds\n",
      "node: 90, Edge: 1220, duration: 232379.44 microseconds\n",
      "node: 100, Edge: 1477, duration: 245394.71 microseconds\n",
      "node: 110, Edge: 1818, duration: 321140.53 microseconds\n",
      "node: 120, Edge: 2085, duration: 430895.33 microseconds\n",
      "node: 130, Edge: 2505, duration: 644235.61 microseconds\n",
      "node: 140, Edge: 2921, duration: 831776.62 microseconds\n",
      "node: 150, Edge: 3243, duration: 1136960.51 microseconds\n",
      "node: 160, Edge: 3844, duration: 1370379.21 microseconds\n",
      "node: 170, Edge: 4302, duration: 1858040.33 microseconds\n",
      "node: 180, Edge: 4804, duration: 2662839.89 microseconds\n",
      "node: 190, Edge: 5302, duration: 3185527.32 microseconds\n",
      "node: 200, Edge: 6011, duration: 3948405.74 microseconds\n",
      "node: 210, Edge: 6607, duration: 4451152.09 microseconds\n",
      "node: 220, Edge: 7232, duration: 5182157.28 microseconds\n",
      "node: 230, Edge: 7933, duration: 6643496.27 microseconds\n",
      "node: 240, Edge: 8343, duration: 7768233.54 microseconds\n",
      "node: 250, Edge: 9192, duration: 9369994.40 microseconds\n",
      "node: 260, Edge: 10035, duration: 10708416.22 microseconds\n",
      "node: 270, Edge: 10775, duration: 12530504.23 microseconds\n",
      "node: 280, Edge: 11673, duration: 14178593.87 microseconds\n",
      "node: 290, Edge: 12303, duration: 16327669.62 microseconds\n",
      "node: 300, Edge: 13403, duration: 18199884.65 microseconds\n",
      "node: 310, Edge: 14225, duration: 20981208.09 microseconds\n",
      "node: 320, Edge: 15376, duration: 23247660.16 microseconds\n",
      "node: 330, Edge: 16307, duration: 26597122.43 microseconds\n",
      "node: 340, Edge: 17066, duration: 29672678.95 microseconds\n",
      "node: 350, Edge: 18136, duration: 33828569.65 microseconds\n",
      "node: 360, Edge: 19270, duration: 37295300.72 microseconds\n",
      "node: 370, Edge: 20237, duration: 42339815.38 microseconds\n",
      "node: 380, Edge: 21501, duration: 46510223.63 microseconds\n",
      "node: 390, Edge: 22614, duration: 52037889.72 microseconds\n",
      "node: 400, Edge: 23739, duration: 57440448.05 microseconds\n",
      "node: 410, Edge: 24960, duration: 64632862.09 microseconds\n",
      "node: 420, Edge: 26478, duration: 70736214.64 microseconds\n",
      "node: 430, Edge: 27462, duration: 78222346.31 microseconds\n",
      "node: 440, Edge: 28898, duration: 86802507.40 microseconds\n",
      "node: 450, Edge: 30200, duration: 93510194.54 microseconds\n",
      "node: 460, Edge: 31566, duration: 102539397.24 microseconds\n",
      "node: 470, Edge: 32967, duration: 114010500.91 microseconds\n",
      "node: 480, Edge: 34309, duration: 124087400.91 microseconds\n",
      "node: 490, Edge: 35554, duration: 135401882.65 microseconds\n",
      "Successfully completed\n"
     ]
    }
   ],
   "source": [
    "if __name__ == \"__main__\":\n",
    "    number_of_node =[]\n",
    "    number_of_edge =[]\n",
    "    duration_ =[]\n",
    "    for node in range(20, 500, 10):\n",
    "        n = node\n",
    "        edge = 0\n",
    "\n",
    "        for i in range(n):\n",
    "            for j in range(i + 1, n):\n",
    "                rnd = get_random_number()\n",
    "                if rnd == 0:\n",
    "                    dist[i][j] = INF\n",
    "                else:\n",
    "                    edge += 1\n",
    "                    dist[i][j] = rnd\n",
    "                    dist[j][i] = rnd\n",
    "\n",
    "        for i in range(n):\n",
    "            dist[i][i] = 0\n",
    "\n",
    "        start = time.time()\n",
    "        floyd_warshall(n)\n",
    "        stop = time.time()\n",
    "\n",
    "        duration = (stop - start) * 1e6  # convert to microseconds\n",
    "        number_of_node.append(n)\n",
    "        number_of_edge.append(edge)\n",
    "        duration_.append(duration)\n",
    "        print(f\"node: {node}, Edge: {edge}, duration: {duration:.2f} microseconds\")\n",
    "\n",
    "    result = pd.DataFrame()\n",
    "    result['Number_of_node'] = number_of_node\n",
    "    result['Number_of_edge'] = number_of_edge\n",
    "    result['duration'] = duration_\n",
    "\n",
    "    result.to_csv(\"Floyed_warshall.csv\", index=None) \n",
    "    #records are save to bellmanford.csv file\n",
    "    print(\"Successfully completed\")"
   ]
  },
  {
   "cell_type": "code",
   "execution_count": 19,
   "metadata": {},
   "outputs": [
    {
     "data": {
      "text/plain": [
       "Text(0, 0.5, 'Time in microsecond')"
      ]
     },
     "execution_count": 19,
     "metadata": {},
     "output_type": "execute_result"
    },
    {
     "data": {
      "image/png": "[encoded data removed]",
      "text/plain": [
       "<Figure size 640x480 with 1 Axes>"
      ]
     },
     "metadata": {},
     "output_type": "display_data"
    }
   ],
   "source": [
    "import matplotlib.pyplot as plt\n",
    "\n",
    "result=pd.read_csv('Floyed_warshall.csv');\n",
    "node=result.iloc[:,0].values\n",
    "time=result.iloc[:,-1].values\n",
    "edge=result.iloc[:,1].values\n",
    "\n",
    "plt.plot(node,time)\n",
    "plt.xlabel('Number of Node')\n",
    "plt.ylabel('Time in microsecond')\n"
   ]
  }
 ],
 "metadata": {
  "kernelspec": {
   "display_name": "Python 3",
   "language": "python",
   "name": "python3"
  },
  "language_info": {
   "codemirror_mode": {
    "name": "ipython",
    "version": 3
   },
   "file_extension": ".py",
   "mimetype": "text/x-python",
   "name": "python",
   "nbconvert_exporter": "python",
   "pygments_lexer": "ipython3",
   "version": "3.11.3"
  },
  "orig_nbformat": 4
 },
 "nbformat": 4,
 "nbformat_minor": 2
}
